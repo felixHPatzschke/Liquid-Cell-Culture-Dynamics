{
 "cells": [
  {
   "cell_type": "markdown",
   "id": "ec62e8f6",
   "metadata": {},
   "source": [
    "# Model for the Concentration Dynamics in Mixed-Species Liquid Cell Cultures\n",
    "## Setup\n",
    "### Import required Libraries\n",
    "#### Maths and Plotting"
   ]
  },
  {
   "cell_type": "code",
   "execution_count": null,
   "id": "d5928756",
   "metadata": {},
   "outputs": [],
   "source": [
    "import numpy as np\n",
    "\n",
    "import matplotlib as mpl\n",
    "import matplotlib.pyplot as plt\n",
    "\n",
    "from scipy.integrate import solve_ivp"
   ]
  },
  {
   "cell_type": "markdown",
   "id": "987ce420",
   "metadata": {},
   "source": [
    "#### Implementation of the Model\n",
    "![Reaction Scheme](reaction_scheme.png \"Reaction Scheme\")"
   ]
  },
  {
   "cell_type": "code",
   "execution_count": null,
   "id": "79980191",
   "metadata": {},
   "outputs": [],
   "source": [
    "import concentration_dynamics"
   ]
  },
  {
   "cell_type": "markdown",
   "id": "84ad86ab",
   "metadata": {},
   "source": [
    "### Set up ODE sysyem"
   ]
  },
  {
   "cell_type": "code",
   "execution_count": null,
   "id": "cad0dc4c",
   "metadata": {},
   "outputs": [],
   "source": [
    "FILES = {\n",
    "    \"CONSTANTS\" : \"constants.yml\",\n",
    "    \"PARAMS\" : \"parameters.yml\",\n",
    "    \"INITIAL_CONDITIONS\" : \"initial_conditions.yml\",\n",
    "}"
   ]
  },
  {
   "cell_type": "code",
   "execution_count": null,
   "id": "0eaa3805",
   "metadata": {},
   "outputs": [],
   "source": [
    "ode_system = concentration_dynamics.suspended_cultures_ode()\n",
    "assert ode_system.load_reaction_params(FILES[\"CONSTANTS\"]) , \"Failed to load reaction parameters from constants.yml\"\n",
    "assert ode_system.load_gas_exchange_params(FILES[\"CONSTANTS\"], FILES[\"PARAMS\"]), \"Failed to load gas exchange parameters\"\n"
   ]
  },
  {
   "cell_type": "markdown",
   "id": "db3c15d5",
   "metadata": {},
   "source": [
    "## ODE System Solution\n",
    "\n",
    "### Load Initial State"
   ]
  },
  {
   "cell_type": "code",
   "execution_count": null,
   "id": "0b405136",
   "metadata": {},
   "outputs": [],
   "source": [
    "initial_state = concentration_dynamics.make_initial_state(FILES[\"INITIAL_CONDITIONS\"])\n",
    "assert initial_state is not None , \"Failed to load initial state from file.\"\n",
    "initial_state = concentration_dynamics.update_state_with_gas_at_equilibrium(initial_state, ode_system)\n"
   ]
  },
  {
   "cell_type": "code",
   "execution_count": null,
   "id": "d414821e",
   "metadata": {},
   "outputs": [],
   "source": [
    "#initial_state[0] = 0.0"
   ]
  },
  {
   "cell_type": "code",
   "execution_count": null,
   "id": "a8c5c6ad",
   "metadata": {},
   "outputs": [],
   "source": [
    "print(\"Initial State:\")\n",
    "for k,v in zip( concentration_dynamics.DEFAULT_ORDER , initial_state ):\n",
    "    print(f\"  c_{k}0 = {v} mol/m^3\")"
   ]
  },
  {
   "cell_type": "code",
   "execution_count": null,
   "id": "81df9f5d",
   "metadata": {},
   "outputs": [],
   "source": [
    "print(\"Initial Derivatives:\")\n",
    "for k,v in zip( concentration_dynamics.DEFAULT_ORDER , ode_system(None, initial_state) ):\n",
    "    print(f\"  c˙_{k} = {v} mol/m^3\")"
   ]
  },
  {
   "cell_type": "markdown",
   "id": "6c7cb022",
   "metadata": {},
   "source": [
    "### Solve IVP"
   ]
  },
  {
   "cell_type": "code",
   "execution_count": null,
   "id": "626b8420",
   "metadata": {},
   "outputs": [],
   "source": [
    "# time span for the simulation\n",
    "#t_span = (0, 2*356*24*3600)  # 2 years in seconds\n",
    "t_span = (0, 18*7*24*3600)  # 4 weeks in seconds\n",
    "#t_span = (0, 24*3600)  # 1 day in seconds\n",
    "#t_span = (0, 3600)  # 1 hour in seconds\n",
    "#t_span = (0, 2)  # 2 seconds\n",
    "\n",
    "# solve the ODE system\n",
    "sol = solve_ivp(\n",
    "    ode_system, \n",
    "    t_span, \n",
    "    initial_state, \n",
    "    method='RK45', \n",
    "    t_eval=np.linspace(t_span[0], t_span[1], num=10000), \n",
    "    events=concentration_dynamics.IVP_SOLUTION_TERMINATION_EVENTS \n",
    ")"
   ]
  },
  {
   "cell_type": "markdown",
   "id": "b1fe6727",
   "metadata": {},
   "source": [
    "### Plots"
   ]
  },
  {
   "cell_type": "code",
   "execution_count": null,
   "id": "dc670649",
   "metadata": {},
   "outputs": [],
   "source": [
    "# Plot the results:\n",
    "# left: Concentrations of Cyanobacteria (cyan: #689d6a) and Methanotrophs (orange: #d65d0e) over time.\n",
    "# middle: Concentrations of oxygen (red: #cc241d), carbon dioxide (gray: #7c6f64) and methane (purple: #b16286) over time.\n",
    "# right: Trajectory of the system in the concentration space of Cyanobacteria (x) and Methanotrophs (y).\n",
    "\n",
    "fig = plt.figure( figsize=(9,9), dpi=200 )\n",
    "axs = fig.add_gridspec( 2, 1, height_ratios=[1,1] )\n",
    "\n",
    "ax = fig.add_subplot( axs[0,0] )\n",
    "ax.plot(sol.t / 3600, sol.y[0], label='Cyanobacteria', color='#689d6a')\n",
    "ax.plot(sol.t / 3600, sol.y[1], label='Methanotrophs', color='#d65d0e')\n",
    "ax.set_xlabel('Time [hours]')\n",
    "ax.set_ylabel('Concentration [$\\mathrm{mol}\\,\\mathrm{C}\\cdot\\mathrm{m}^{-3}$]')\n",
    "ax.set_yscale(\"log\")\n",
    "ax.legend()\n",
    "\n",
    "\n",
    "ax = fig.add_subplot( axs[1,0] )\n",
    "ax.plot(sol.t / 3600, sol.y[2], label='carbon dioxide', color='#7c6f64', lw=2)\n",
    "ax.plot(sol.t / 3600, sol.y[3], label='oxygen', color='#cc241d', lw=2)\n",
    "ax.plot(sol.t / 3600, sol.y[4], label='methane', color='#98971a', lw=1.5)\n",
    "ax.plot(sol.t / 3600, sol.y[5], label='light', color='#d79921', lw=1.5, ls=':')\n",
    "ax.plot(sol.t / 3600, sol.y[6], label='nitrogen', color='#458588', lw=1)\n",
    "ax.plot(sol.t / 3600, sol.y[7], label='phosphorous', color='#b16286', lw=1)\n",
    "ax.set_xlabel('Time [hours]')\n",
    "ax.set_ylabel('Concentration [$\\mathrm{mol}\\cdot\\mathrm{m}^{-3}$]')\n",
    "ax.set_yscale(\"log\")\n",
    "ax.legend(ncols=2)\n",
    "\n",
    "plt.tight_layout()\n",
    "plt.show()\n",
    "\n",
    "#fig.patch.set_alpha(0.0)\n",
    "#fig.savefig( \"Cell Culture Dynamics v1.png\", dpi=300, bbox_inches='tight', pad_inches=0.0 )"
   ]
  },
  {
   "cell_type": "code",
   "execution_count": null,
   "id": "ffffaadd",
   "metadata": {},
   "outputs": [],
   "source": []
  }
 ],
 "metadata": {
  "kernelspec": {
   "display_name": "Python 3",
   "language": "python",
   "name": "python3"
  },
  "language_info": {
   "codemirror_mode": {
    "name": "ipython",
    "version": 3
   },
   "file_extension": ".py",
   "mimetype": "text/x-python",
   "name": "python",
   "nbconvert_exporter": "python",
   "pygments_lexer": "ipython3",
   "version": "3.9.6"
  }
 },
 "nbformat": 4,
 "nbformat_minor": 5
}
